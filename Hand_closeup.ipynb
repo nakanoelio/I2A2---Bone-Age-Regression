{
 "cells": [
  {
   "cell_type": "code",
   "execution_count": 46,
   "metadata": {},
   "outputs": [],
   "source": [
    "import pandas as pd\n",
    "import numpy as np\n",
    "import matplotlib.pyplot as plt\n",
    "from PIL import Image, ImageFilter, ImageEnhance\n",
    "import os\n",
    "from tqdm import tqdm"
   ]
  },
  {
   "cell_type": "code",
   "execution_count": 18,
   "metadata": {},
   "outputs": [],
   "source": [
    "seed = 42\n",
    "path = 'D:/UserFolders/Enak/Documentos/I2A2/Curso 2020/Desafio - Bone Age Regression/'"
   ]
  },
  {
   "cell_type": "code",
   "execution_count": 19,
   "metadata": {},
   "outputs": [],
   "source": [
    "os.mkdir(path+'/newimages/' )"
   ]
  },
  {
   "cell_type": "code",
   "execution_count": 3,
   "metadata": {},
   "outputs": [],
   "source": [
    "train_df = pd.read_csv(path+'i2a2-bone-age-regression/train.csv')"
   ]
  },
  {
   "cell_type": "code",
   "execution_count": 4,
   "metadata": {},
   "outputs": [
    {
     "data": {
      "text/html": [
       "<div>\n",
       "<style scoped>\n",
       "    .dataframe tbody tr th:only-of-type {\n",
       "        vertical-align: middle;\n",
       "    }\n",
       "\n",
       "    .dataframe tbody tr th {\n",
       "        vertical-align: top;\n",
       "    }\n",
       "\n",
       "    .dataframe thead th {\n",
       "        text-align: right;\n",
       "    }\n",
       "</style>\n",
       "<table border=\"1\" class=\"dataframe\">\n",
       "  <thead>\n",
       "    <tr style=\"text-align: right;\">\n",
       "      <th></th>\n",
       "      <th>fileName</th>\n",
       "      <th>patientSex</th>\n",
       "      <th>boneage</th>\n",
       "    </tr>\n",
       "  </thead>\n",
       "  <tbody>\n",
       "    <tr>\n",
       "      <th>0</th>\n",
       "      <td>1377.png</td>\n",
       "      <td>F</td>\n",
       "      <td>180</td>\n",
       "    </tr>\n",
       "    <tr>\n",
       "      <th>1</th>\n",
       "      <td>1378.png</td>\n",
       "      <td>F</td>\n",
       "      <td>12</td>\n",
       "    </tr>\n",
       "    <tr>\n",
       "      <th>2</th>\n",
       "      <td>1379.png</td>\n",
       "      <td>F</td>\n",
       "      <td>94</td>\n",
       "    </tr>\n",
       "    <tr>\n",
       "      <th>3</th>\n",
       "      <td>1380.png</td>\n",
       "      <td>M</td>\n",
       "      <td>120</td>\n",
       "    </tr>\n",
       "    <tr>\n",
       "      <th>4</th>\n",
       "      <td>1381.png</td>\n",
       "      <td>F</td>\n",
       "      <td>82</td>\n",
       "    </tr>\n",
       "    <tr>\n",
       "      <th>5</th>\n",
       "      <td>1382.png</td>\n",
       "      <td>M</td>\n",
       "      <td>138</td>\n",
       "    </tr>\n",
       "    <tr>\n",
       "      <th>6</th>\n",
       "      <td>1383.png</td>\n",
       "      <td>M</td>\n",
       "      <td>150</td>\n",
       "    </tr>\n",
       "    <tr>\n",
       "      <th>7</th>\n",
       "      <td>1384.png</td>\n",
       "      <td>M</td>\n",
       "      <td>156</td>\n",
       "    </tr>\n",
       "    <tr>\n",
       "      <th>8</th>\n",
       "      <td>1385.png</td>\n",
       "      <td>M</td>\n",
       "      <td>36</td>\n",
       "    </tr>\n",
       "    <tr>\n",
       "      <th>9</th>\n",
       "      <td>1387.png</td>\n",
       "      <td>M</td>\n",
       "      <td>138</td>\n",
       "    </tr>\n",
       "    <tr>\n",
       "      <th>10</th>\n",
       "      <td>1388.png</td>\n",
       "      <td>F</td>\n",
       "      <td>126</td>\n",
       "    </tr>\n",
       "    <tr>\n",
       "      <th>11</th>\n",
       "      <td>1389.png</td>\n",
       "      <td>M</td>\n",
       "      <td>138</td>\n",
       "    </tr>\n",
       "    <tr>\n",
       "      <th>12</th>\n",
       "      <td>1390.png</td>\n",
       "      <td>M</td>\n",
       "      <td>156</td>\n",
       "    </tr>\n",
       "    <tr>\n",
       "      <th>13</th>\n",
       "      <td>1391.png</td>\n",
       "      <td>M</td>\n",
       "      <td>180</td>\n",
       "    </tr>\n",
       "    <tr>\n",
       "      <th>14</th>\n",
       "      <td>1393.png</td>\n",
       "      <td>F</td>\n",
       "      <td>132</td>\n",
       "    </tr>\n",
       "    <tr>\n",
       "      <th>15</th>\n",
       "      <td>1394.png</td>\n",
       "      <td>M</td>\n",
       "      <td>57</td>\n",
       "    </tr>\n",
       "    <tr>\n",
       "      <th>16</th>\n",
       "      <td>1395.png</td>\n",
       "      <td>F</td>\n",
       "      <td>120</td>\n",
       "    </tr>\n",
       "    <tr>\n",
       "      <th>17</th>\n",
       "      <td>1396.png</td>\n",
       "      <td>F</td>\n",
       "      <td>188</td>\n",
       "    </tr>\n",
       "    <tr>\n",
       "      <th>18</th>\n",
       "      <td>1398.png</td>\n",
       "      <td>F</td>\n",
       "      <td>4</td>\n",
       "    </tr>\n",
       "    <tr>\n",
       "      <th>19</th>\n",
       "      <td>1399.png</td>\n",
       "      <td>F</td>\n",
       "      <td>36</td>\n",
       "    </tr>\n",
       "  </tbody>\n",
       "</table>\n",
       "</div>"
      ],
      "text/plain": [
       "    fileName patientSex  boneage\n",
       "0   1377.png          F      180\n",
       "1   1378.png          F       12\n",
       "2   1379.png          F       94\n",
       "3   1380.png          M      120\n",
       "4   1381.png          F       82\n",
       "5   1382.png          M      138\n",
       "6   1383.png          M      150\n",
       "7   1384.png          M      156\n",
       "8   1385.png          M       36\n",
       "9   1387.png          M      138\n",
       "10  1388.png          F      126\n",
       "11  1389.png          M      138\n",
       "12  1390.png          M      156\n",
       "13  1391.png          M      180\n",
       "14  1393.png          F      132\n",
       "15  1394.png          M       57\n",
       "16  1395.png          F      120\n",
       "17  1396.png          F      188\n",
       "18  1398.png          F        4\n",
       "19  1399.png          F       36"
      ]
     },
     "execution_count": 4,
     "metadata": {},
     "output_type": "execute_result"
    }
   ],
   "source": [
    "train_df.head(20)"
   ]
  },
  {
   "cell_type": "code",
   "execution_count": 5,
   "metadata": {},
   "outputs": [
    {
     "data": {
      "image/png": "[encoded data removed]",
      "text/plain": [
       "<Figure size 432x288 with 1 Axes>"
      ]
     },
     "metadata": {
      "needs_background": "light"
     },
     "output_type": "display_data"
    }
   ],
   "source": [
    "im = Image.open(path+'i2a2-bone-age-regression/images/1396.png').convert(\"L\")\n",
    "plt.imshow(im)\n",
    "plt.show()"
   ]
  },
  {
   "cell_type": "code",
   "execution_count": 6,
   "metadata": {},
   "outputs": [
    {
     "data": {
      "text/plain": [
       "array([[126, 126, 125, 127, 123, 123, 122, 119, 116, 112],\n",
       "       [127, 124, 124, 125, 122, 121, 119, 117, 114, 108],\n",
       "       [125, 124, 122, 123, 120, 118, 116, 113, 108, 102],\n",
       "       [124, 121, 121, 119, 117, 115, 110, 104, 101, 100],\n",
       "       [122, 119, 118, 114, 112, 108, 103, 100, 101, 101],\n",
       "       [118, 118, 113, 109, 105, 102, 100, 101, 100, 101],\n",
       "       [117, 112, 105, 102, 100, 101, 101, 101, 101, 101],\n",
       "       [110, 104, 101, 100, 100, 101, 101, 101, 101, 102],\n",
       "       [102, 100, 100, 101, 102, 101, 101, 101, 100, 102],\n",
       "       [101, 100, 101, 101, 103, 103, 102, 101, 102, 102]], dtype=uint8)"
      ]
     },
     "execution_count": 6,
     "metadata": {},
     "output_type": "execute_result"
    }
   ],
   "source": [
    "im_crop = im.crop((600,700,610,710))\n",
    "im_arr = np.asarray(im_crop)\n",
    "im_arr"
   ]
  },
  {
   "cell_type": "code",
   "execution_count": 7,
   "metadata": {},
   "outputs": [
    {
     "data": {
      "text/plain": [
       "126.0"
      ]
     },
     "execution_count": 7,
     "metadata": {},
     "output_type": "execute_result"
    }
   ],
   "source": [
    "im_arr = np.asarray(im)\n",
    "np.mean(im_arr)\n",
    "np.quantile(im_arr,0.75)"
   ]
  },
  {
   "cell_type": "code",
   "execution_count": null,
   "metadata": {},
   "outputs": [],
   "source": []
  },
  {
   "cell_type": "code",
   "execution_count": 69,
   "metadata": {},
   "outputs": [],
   "source": [
    "def del_blank(im):\n",
    "    #print(im.getbbox())\n",
    "    im_crop = im.crop(im.getbbox())\n",
    "    #plt.imshow(im_crop)\n",
    "    #plt.show()\n",
    "    return im_crop"
   ]
  },
  {
   "cell_type": "code",
   "execution_count": 68,
   "metadata": {},
   "outputs": [],
   "source": [
    "def contrast_enh(im_crop):\n",
    "    enhancer = ImageEnhance.Contrast(im_crop)\n",
    "    new_img2 = enhancer.enhance(2)\n",
    "    #plt.imshow(new_img2)\n",
    "    #plt.show()\n",
    "    return new_img2"
   ]
  },
  {
   "cell_type": "code",
   "execution_count": 67,
   "metadata": {},
   "outputs": [],
   "source": [
    "def img_rotate(new_img2):\n",
    "    new_img3 = new_img2.rotate(15)\n",
    "    #plt.imshow(new_img3)\n",
    "    #plt.show()\n",
    "    return new_img3"
   ]
  },
  {
   "cell_type": "code",
   "execution_count": 66,
   "metadata": {},
   "outputs": [],
   "source": [
    "def get_col_row_max(new_img3):\n",
    "    im_arr = np.asarray(new_img3)\n",
    "    #print(im_arr.shape)\n",
    "    column_sum = im_arr.sum(axis=0)\n",
    "    #print(len(column_sum))\n",
    "    row_sum = im_arr.sum(axis=1)\n",
    "    col = np.argmax(column_sum)\n",
    "    row = np.argmax(row_sum)\n",
    "    #print(col,row)\n",
    "    return col,row\n"
   ]
  },
  {
   "cell_type": "code",
   "execution_count": 65,
   "metadata": {},
   "outputs": [],
   "source": [
    "def close_up(col, row, new_img3):\n",
    "    im_arr = np.asarray(new_img3)\n",
    "    box = (col-im_arr.shape[1]/2, row-im_arr.shape[1]/1.5, col+im_arr.shape[1]/2, row+im_arr.shape[1]/2.2)\n",
    "    #print(box)\n",
    "    im_crop2 = new_img3.crop(box)\n",
    "    #plt.imshow(im_crop2)\n",
    "    #plt.show()\n",
    "    return im_crop2"
   ]
  },
  {
   "cell_type": "code",
   "execution_count": 64,
   "metadata": {},
   "outputs": [],
   "source": [
    "def rotate_back(im_crop2,col,row): \n",
    "    im_crop3 = im_crop2.rotate(-15)\n",
    "    #plt.plot(col,row)\n",
    "    #plt.imshow(im_crop3)\n",
    "    #plt.show()\n",
    "    return im_crop3"
   ]
  },
  {
   "cell_type": "code",
   "execution_count": 63,
   "metadata": {},
   "outputs": [],
   "source": [
    "def hand_id(im):\n",
    "    im = del_blank(im)\n",
    "    im = contrast_enh(im)\n",
    "    im = img_rotate(im)\n",
    "    col,row = get_col_row_max(im)\n",
    "    #print(col,row)\n",
    "    im = close_up(col, row, im)\n",
    "    im = rotate_back(im,col,row)\n",
    "    return im"
   ]
  },
  {
   "cell_type": "code",
   "execution_count": 71,
   "metadata": {},
   "outputs": [
    {
     "name": "stderr",
     "output_type": "stream",
     "text": [
      "100%|████████████████████████████████████████████████████████████████████████████| 12611/12611 [20:36<00:00, 10.20it/s]\n"
     ]
    }
   ],
   "source": [
    "new_images = []\n",
    "for i in tqdm(train_df['fileName']):\n",
    "    im = Image.open(path+'i2a2-bone-age-regression/images/'+i).convert(\"L\")\n",
    "    im = hand_id(im)\n",
    "    #print(newfiles)\n",
    "    im.save(path+'/newimages/'+i, \"PNG\")"
   ]
  },
  {
   "cell_type": "code",
   "execution_count": 32,
   "metadata": {},
   "outputs": [
    {
     "data": {
      "text/plain": [
       "1    12\n",
       "Name: boneage, dtype: int64"
      ]
     },
     "execution_count": 32,
     "metadata": {},
     "output_type": "execute_result"
    }
   ],
   "source": [
    "train_df.loc[train_df.fileName == '1378.png','boneage']"
   ]
  }
 ],
 "metadata": {
  "kernelspec": {
   "display_name": "Python 3",
   "language": "python",
   "name": "python3"
  },
  "language_info": {
   "codemirror_mode": {
    "name": "ipython",
    "version": 3
   },
   "file_extension": ".py",
   "mimetype": "text/x-python",
   "name": "python",
   "nbconvert_exporter": "python",
   "pygments_lexer": "ipython3",
   "version": "3.7.7"
  }
 },
 "nbformat": 4,
 "nbformat_minor": 4
}
