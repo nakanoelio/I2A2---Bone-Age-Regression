{
  "nbformat": 4,
  "nbformat_minor": 0,
  "metadata": {
    "kernelspec": {
      "name": "python3",
      "display_name": "Python 3",
      "language": "python"
    },
    "language_info": {
      "name": "python",
      "version": "3.7.6",
      "mimetype": "text/x-python",
      "codemirror_mode": {
        "name": "ipython",
        "version": 3
      },
      "pygments_lexer": "ipython3",
      "nbconvert_exporter": "python",
      "file_extension": ".py"
    },
    "colab": {
      "name": "Bone Age Regression_2Nets.ipynb",
      "provenance": [],
      "collapsed_sections": [],
      "include_colab_link": true
    },
    "accelerator": "GPU"
  },
  "cells": [
    {
      "cell_type": "markdown",
      "metadata": {
        "id": "view-in-github",
        "colab_type": "text"
      },
      "source": [
        "<a href=\"https://colab.research.google.com/github/nakanoelio/I2A2---Bone-Age-Regression/blob/master/Bone_Age_Regression_2Nets.ipynb\" target=\"_parent\"><img src=\"https://colab.research.google.com/assets/colab-badge.svg\" alt=\"Open In Colab\"/></a>"
      ]
    },
    {
      "cell_type": "code",
      "metadata": {
        "id": "WPx7LcSr3j8i",
        "colab_type": "code",
        "colab": {
          "base_uri": "https://localhost:8080/",
          "height": 122
        },
        "outputId": "48278f80-29d8-44fd-82f7-cacfb2c87167"
      },
      "source": [
        "from google.colab import drive\n",
        "drive.mount('/content/gdrive')"
      ],
      "execution_count": null,
      "outputs": [
        {
          "output_type": "stream",
          "text": [
            "Go to this URL in a browser: https://accounts.google.com/o/oauth2/auth?client_id=947318989803-6bn6qk8qdgf4n4g3pfee6491hc0brc4i.apps.googleusercontent.com&redirect_uri=urn%3aietf%3awg%3aoauth%3a2.0%3aoob&response_type=code&scope=email%20https%3a%2f%2fwww.googleapis.com%2fauth%2fdocs.test%20https%3a%2f%2fwww.googleapis.com%2fauth%2fdrive%20https%3a%2f%2fwww.googleapis.com%2fauth%2fdrive.photos.readonly%20https%3a%2f%2fwww.googleapis.com%2fauth%2fpeopleapi.readonly\n",
            "\n",
            "Enter your authorization code:\n",
            "··········\n",
            "Mounted at /content/gdrive\n"
          ],
          "name": "stdout"
        }
      ]
    },
    {
      "cell_type": "code",
      "metadata": {
        "_uuid": "8f2839f25d086af736a60e9eeb907d3b93b6e0e5",
        "_cell_guid": "b1076dfc-b9ad-4769-8c92-a6c4dae69d19",
        "trusted": true,
        "id": "2ceHPz1c3hQp",
        "colab_type": "code",
        "colab": {
          "base_uri": "https://localhost:8080/",
          "height": 34
        },
        "outputId": "3969af5d-4dd0-4f82-e4dd-879411940605"
      },
      "source": [
        "import keras\n",
        "from keras.models import Model\n",
        "from keras.layers import *\n",
        "from keras.optimizers import *\n",
        "from keras.losses import *\n",
        "from keras.regularizers import *\n",
        "from keras.preprocessing.image import ImageDataGenerator\n",
        "from keras.models import Sequential\n",
        "from keras.applications.vgg16 import VGG16\n",
        "from keras.applications import DenseNet121\n",
        "from keras.applications import Xception\n",
        "from keras.callbacks import *\n",
        "\n",
        "from sklearn.model_selection import train_test_split\n",
        "from matplotlib import pyplot as plt\n",
        "import pandas as pd\n",
        "import matplotlib.image as mpimg\n",
        "import cv2\n",
        "import glob\n",
        "import h5py\n",
        "import random\n",
        "\n",
        "import os\n",
        "from tqdm import tqdm\n",
        "from PIL import Image\n",
        "%matplotlib inline\n",
        "\n",
        "seed = 42"
      ],
      "execution_count": null,
      "outputs": [
        {
          "output_type": "stream",
          "text": [
            "Using TensorFlow backend.\n"
          ],
          "name": "stderr"
        }
      ]
    },
    {
      "cell_type": "code",
      "metadata": {
        "id": "W4sPw6tFpMEh",
        "colab_type": "code",
        "colab": {}
      },
      "source": [
        "#os.mkdir('/content/gdrive/My Drive/Kaggle/I2A2_Bone_Regression/NeuralNet_concat_dia2')"
      ],
      "execution_count": null,
      "outputs": []
    },
    {
      "cell_type": "code",
      "metadata": {
        "id": "ll2novkvCCuH",
        "colab_type": "code",
        "colab": {}
      },
      "source": [
        "#!unzip -q '/content/gdrive/My Drive/Kaggle/I2A2_Bone_Regression/i2a2-bone-age-regression.zip' -d '/content/gdrive/My Drive/Kaggle/I2A2_Bone_Regression/'"
      ],
      "execution_count": null,
      "outputs": []
    },
    {
      "cell_type": "code",
      "metadata": {
        "trusted": true,
        "id": "3mfnL6CY3hQt",
        "colab_type": "code",
        "colab": {
          "base_uri": "https://localhost:8080/",
          "height": 51
        },
        "outputId": "1e11083d-97df-4d4a-f538-0dfb3d04b9f0"
      },
      "source": [
        "train_df = pd.read_csv('/content/gdrive/My Drive/Kaggle/I2A2_Bone_Regression/train.csv')\n",
        "test_df = pd.read_csv('/content/gdrive/My Drive/Kaggle/I2A2_Bone_Regression/test.csv')\n",
        "print(train_df.shape)\n",
        "print(test_df.shape)"
      ],
      "execution_count": null,
      "outputs": [
        {
          "output_type": "stream",
          "text": [
            "(12611, 3)\n",
            "(249, 2)\n"
          ],
          "name": "stdout"
        }
      ]
    },
    {
      "cell_type": "code",
      "metadata": {
        "trusted": true,
        "id": "LhW2Vo203hQx",
        "colab_type": "code",
        "colab": {}
      },
      "source": [
        "#X = []\n",
        "#for i in tqdm(train_df['fileName']):\n",
        "    #im = Image.open(os.path.join('../input/i2a2-bone-age-regression/images',i)).convert('RGB')\n",
        "    #im = im.resize((256,256))\n",
        "    #im = np.asarray(im)\n",
        "    #X.append(im)\n",
        "#X_t = np.stack(X,axis=0) "
      ],
      "execution_count": null,
      "outputs": []
    },
    {
      "cell_type": "code",
      "metadata": {
        "trusted": true,
        "id": "fMmTULD23hQ0",
        "colab_type": "code",
        "colab": {}
      },
      "source": [
        "X_train, X_test, y_train, y_test = train_test_split(train_df[\"fileName\"],train_df[\"boneage\"], test_size = 0.20, random_state = seed)"
      ],
      "execution_count": null,
      "outputs": []
    },
    {
      "cell_type": "code",
      "metadata": {
        "trusted": true,
        "id": "8jNDpZxd3hQ2",
        "colab_type": "code",
        "colab": {
          "base_uri": "https://localhost:8080/",
          "height": 85
        },
        "outputId": "f9abd92a-8bf5-40ef-f6dc-c24a7c6e0086"
      },
      "source": [
        "img_size = (224)\n",
        "\n",
        "rotation_range = 20\n",
        "width_shift_range = 0.1\n",
        "height_shift_range = 0.1\n",
        "horizontal_flip = True\n",
        "shear_range = 0.1\n",
        "zoom_range = 0.1\n",
        "\n",
        "datagen = ImageDataGenerator(\n",
        "        rotation_range=rotation_range,\n",
        "        width_shift_range=width_shift_range,\n",
        "        height_shift_range=height_shift_range,\n",
        "        shear_range=shear_range,\n",
        "        zoom_range=zoom_range,\n",
        "        horizontal_flip=horizontal_flip,\n",
        "        fill_mode='nearest',rescale=1./255.,validation_split=0.25)\n",
        "\n",
        "\n",
        "\n",
        "train_iter=datagen.flow_from_dataframe(dataframe=train_df, directory=\"/content/gdrive/My Drive/Kaggle/I2A2_Bone_Regression/images\", x_col=\"fileName\", y_col=\"boneage\", subset=\"training\", class_mode=\"raw\", target_size=(img_size,img_size), color_mode='rgb')\n",
        "valid_iter=datagen.flow_from_dataframe(dataframe=train_df, directory=\"/content/gdrive/My Drive/Kaggle/I2A2_Bone_Regression/images\", x_col=\"fileName\", y_col=\"boneage\", subset=\"validation\", class_mode=\"raw\", target_size=(img_size,img_size), color_mode='rgb')\n"
      ],
      "execution_count": null,
      "outputs": [
        {
          "output_type": "stream",
          "text": [
            "/usr/local/lib/python3.6/dist-packages/keras_preprocessing/image/dataframe_iterator.py:282: UserWarning: Found 1 invalid image filename(s) in x_col=\"fileName\". These filename(s) will be ignored.\n",
            "  .format(n_invalid, x_col)\n"
          ],
          "name": "stderr"
        },
        {
          "output_type": "stream",
          "text": [
            "Found 9458 validated image filenames.\n",
            "Found 3152 validated image filenames.\n"
          ],
          "name": "stdout"
        }
      ]
    },
    {
      "cell_type": "code",
      "metadata": {
        "trusted": true,
        "id": "CEXAbyCT3hQ5",
        "colab_type": "code",
        "colab": {}
      },
      "source": [
        "#pretrained_model = VGG16(weights=\"imagenet\", include_top=False, input_shape=(img_size,img_size,3))"
      ],
      "execution_count": null,
      "outputs": []
    },
    {
      "cell_type": "code",
      "metadata": {
        "trusted": true,
        "id": "OCu2JP2V3hQ7",
        "colab_type": "code",
        "colab": {}
      },
      "source": [
        "#img_size = (224)\n",
        "#pretrained_model = DenseNet121(include_top=False,weights=\"imagenet\", input_shape=(img_size,img_size,3),)"
      ],
      "execution_count": null,
      "outputs": []
    },
    {
      "cell_type": "code",
      "metadata": {
        "id": "DRSRjksWFSka",
        "colab_type": "code",
        "colab": {}
      },
      "source": [
        "#pretrained_model = Xception(include_top=False, weights=\"imagenet\",input_shape=(img_size,img_size,3),)"
      ],
      "execution_count": null,
      "outputs": []
    },
    {
      "cell_type": "code",
      "metadata": {
        "trusted": true,
        "id": "s7nBBrVe3hQ-",
        "colab_type": "code",
        "colab": {}
      },
      "source": [
        "#number_of_frozen_layers = 0\n",
        "#for i, layer in enumerate(pretrained_model.layers):\n",
        "    #if i>=number_of_frozen_layers:\n",
        "        #break\n",
        "    #layer.trainable = False"
      ],
      "execution_count": null,
      "outputs": []
    },
    {
      "cell_type": "code",
      "metadata": {
        "trusted": true,
        "id": "fqmGwCRN3hRB",
        "colab_type": "code",
        "colab": {
          "base_uri": "https://localhost:8080/",
          "height": 1000
        },
        "outputId": "0866232e-e5c7-49eb-a84d-c34357cf7420"
      },
      "source": [
        "img_size = (224)\n",
        "\n",
        "inputs = keras.Input(shape=(img_size, img_size, 3))\n",
        "#x = pretrained_model(inputs)\n",
        "xx = Conv2D(filters=32, kernel_size=3, padding='same', activation='elu')(inputs)\n",
        "xx = BatchNormalization()(xx)\n",
        "xx = Conv2D(filters=32, kernel_size=3, padding='same', activation='elu')(xx)\n",
        "xx = BatchNormalization()(xx)\n",
        "xx = MaxPooling2D(pool_size=(3, 3), strides=2)(xx)\n",
        "\n",
        "yy = Conv2D(filters=64, kernel_size=3, padding='same', activation='elu')(xx)\n",
        "yy = BatchNormalization()(yy)\n",
        "yy = Conv2D(filters=64, kernel_size=3, padding='same', activation='elu')(yy)\n",
        "yy = BatchNormalization()(yy)\n",
        "yy = MaxPooling2D(pool_size=(3, 3), strides=2)(yy)\n",
        "\n",
        "zz = Conv2D(filters=128, kernel_size=3, padding='same', activation='elu')(yy)\n",
        "zz = BatchNormalization()(zz)\n",
        "zz = Conv2D(filters=128, kernel_size=3, padding='same', activation='elu')(zz)\n",
        "zz = BatchNormalization()(zz)\n",
        "zz = MaxPooling2D(pool_size=(3, 3), strides=2)(zz)\n",
        "\n",
        "ll = Conv2D(filters=256, kernel_size=3, padding='same', activation='elu')(zz)\n",
        "ll = BatchNormalization()(ll)\n",
        "ll = Conv2D(filters=256, kernel_size=3, padding='same', activation='elu')(ll)\n",
        "ll = BatchNormalization()(ll)\n",
        "ll = MaxPooling2D(pool_size=(3, 3), strides=2)(ll)\n",
        "\n",
        "mm =Conv2D(filters=384, kernel_size=3, padding='same', activation='elu')(ll)\n",
        "mm = BatchNormalization()(mm)\n",
        "mm =Conv2D(filters=384, kernel_size=3, padding='same', activation='elu')(mm)\n",
        "mm = BatchNormalization()(mm)\n",
        "mm = MaxPooling2D(pool_size=(3, 3), strides=2)(mm)\n",
        "\n",
        "x = Conv2D(filters=32, kernel_size=3, padding='same', activation='elu')(inputs)\n",
        "x = BatchNormalization()(x)\n",
        "x =Conv2D(filters=32, kernel_size=3, padding='same', activation='elu')(x)\n",
        "x = BatchNormalization()(x)\n",
        "x = Concatenate(axis=-1)([inputs, x])\n",
        "x = MaxPooling2D(pool_size=(3, 3), strides=2)(x)\n",
        "\n",
        "y =Conv2D(filters=64, kernel_size=3, padding='same', activation='elu')(x)\n",
        "y = BatchNormalization()(y)\n",
        "y =Conv2D(filters=64, kernel_size=3, padding='same', activation='elu')(y)\n",
        "y = BatchNormalization()(y)\n",
        "y = Concatenate(axis=-1)([x, y])\n",
        "y = MaxPooling2D(pool_size=(3, 3), strides=2)(y)\n",
        "\n",
        "z =Conv2D(filters=128, kernel_size=3, padding='same', activation='elu')(y)\n",
        "z = BatchNormalization()(z)\n",
        "z =Conv2D(filters=128, kernel_size=3, padding='same', activation='elu')(z)\n",
        "z = BatchNormalization()(z)\n",
        "z = Concatenate(axis=-1)([y, z])\n",
        "z = MaxPooling2D(pool_size=(3, 3), strides=2)(z)\n",
        "\n",
        "l =Conv2D(filters=256, kernel_size=3, padding='same', activation='elu')(z)\n",
        "l = BatchNormalization()(l)\n",
        "l =Conv2D(filters=256, kernel_size=3, padding='same', activation='elu')(l)\n",
        "l = BatchNormalization()(l)\n",
        "l = Concatenate(axis=-1)([z, l])\n",
        "l = MaxPooling2D(pool_size=(3, 3), strides=2)(l)\n",
        "\n",
        "m =Conv2D(filters=384, kernel_size=3, padding='same', activation='elu')(l)\n",
        "m = BatchNormalization()(m)\n",
        "m =Conv2D(filters=384, kernel_size=3, padding='same', activation='elu')(m)\n",
        "m = BatchNormalization()(m)\n",
        "m = Concatenate(axis=-1)([l,m])\n",
        "m = MaxPooling2D(pool_size=(3, 3), strides=2)(m)\n",
        "\n",
        "n = Concatenate(axis=-1)([m,mm])\n",
        "n = GlobalAveragePooling2D()(n)\n",
        "\n",
        "#x = Flatten()(x)\n",
        "f = Dropout(rate=0.2, seed=42)(n)\n",
        "f = Dense(2048, activation  =  'elu')(f)\n",
        "f = Dropout(rate=0.2, seed=42)(f)\n",
        "f = Dense(2048, activation  =  'elu')(f)\n",
        "f = Dense(1, activation  =  'linear')(f)\n",
        "\n",
        "model = Model(inputs, f)\n",
        "model.summary()\n",
        "\n",
        "#for layer in model.layers:\n",
        "#  layer.kernel_regularizer = l2(1e-4)"
      ],
      "execution_count": null,
      "outputs": [
        {
          "output_type": "stream",
          "text": [
            "Model: \"model_1\"\n",
            "__________________________________________________________________________________________________\n",
            "Layer (type)                    Output Shape         Param #     Connected to                     \n",
            "==================================================================================================\n",
            "input_1 (InputLayer)            (None, 224, 224, 3)  0                                            \n",
            "__________________________________________________________________________________________________\n",
            "conv2d_11 (Conv2D)              (None, 224, 224, 32) 896         input_1[0][0]                    \n",
            "__________________________________________________________________________________________________\n",
            "batch_normalization_11 (BatchNo (None, 224, 224, 32) 128         conv2d_11[0][0]                  \n",
            "__________________________________________________________________________________________________\n",
            "conv2d_12 (Conv2D)              (None, 224, 224, 32) 9248        batch_normalization_11[0][0]     \n",
            "__________________________________________________________________________________________________\n",
            "batch_normalization_12 (BatchNo (None, 224, 224, 32) 128         conv2d_12[0][0]                  \n",
            "__________________________________________________________________________________________________\n",
            "concatenate_1 (Concatenate)     (None, 224, 224, 35) 0           input_1[0][0]                    \n",
            "                                                                 batch_normalization_12[0][0]     \n",
            "__________________________________________________________________________________________________\n",
            "max_pooling2d_6 (MaxPooling2D)  (None, 111, 111, 35) 0           concatenate_1[0][0]              \n",
            "__________________________________________________________________________________________________\n",
            "conv2d_1 (Conv2D)               (None, 224, 224, 32) 896         input_1[0][0]                    \n",
            "__________________________________________________________________________________________________\n",
            "conv2d_13 (Conv2D)              (None, 111, 111, 64) 20224       max_pooling2d_6[0][0]            \n",
            "__________________________________________________________________________________________________\n",
            "batch_normalization_1 (BatchNor (None, 224, 224, 32) 128         conv2d_1[0][0]                   \n",
            "__________________________________________________________________________________________________\n",
            "batch_normalization_13 (BatchNo (None, 111, 111, 64) 256         conv2d_13[0][0]                  \n",
            "__________________________________________________________________________________________________\n",
            "conv2d_2 (Conv2D)               (None, 224, 224, 32) 9248        batch_normalization_1[0][0]      \n",
            "__________________________________________________________________________________________________\n",
            "conv2d_14 (Conv2D)              (None, 111, 111, 64) 36928       batch_normalization_13[0][0]     \n",
            "__________________________________________________________________________________________________\n",
            "batch_normalization_2 (BatchNor (None, 224, 224, 32) 128         conv2d_2[0][0]                   \n",
            "__________________________________________________________________________________________________\n",
            "batch_normalization_14 (BatchNo (None, 111, 111, 64) 256         conv2d_14[0][0]                  \n",
            "__________________________________________________________________________________________________\n",
            "max_pooling2d_1 (MaxPooling2D)  (None, 111, 111, 32) 0           batch_normalization_2[0][0]      \n",
            "__________________________________________________________________________________________________\n",
            "concatenate_2 (Concatenate)     (None, 111, 111, 99) 0           max_pooling2d_6[0][0]            \n",
            "                                                                 batch_normalization_14[0][0]     \n",
            "__________________________________________________________________________________________________\n",
            "conv2d_3 (Conv2D)               (None, 111, 111, 64) 18496       max_pooling2d_1[0][0]            \n",
            "__________________________________________________________________________________________________\n",
            "max_pooling2d_7 (MaxPooling2D)  (None, 55, 55, 99)   0           concatenate_2[0][0]              \n",
            "__________________________________________________________________________________________________\n",
            "batch_normalization_3 (BatchNor (None, 111, 111, 64) 256         conv2d_3[0][0]                   \n",
            "__________________________________________________________________________________________________\n",
            "conv2d_15 (Conv2D)              (None, 55, 55, 128)  114176      max_pooling2d_7[0][0]            \n",
            "__________________________________________________________________________________________________\n",
            "conv2d_4 (Conv2D)               (None, 111, 111, 64) 36928       batch_normalization_3[0][0]      \n",
            "__________________________________________________________________________________________________\n",
            "batch_normalization_15 (BatchNo (None, 55, 55, 128)  512         conv2d_15[0][0]                  \n",
            "__________________________________________________________________________________________________\n",
            "batch_normalization_4 (BatchNor (None, 111, 111, 64) 256         conv2d_4[0][0]                   \n",
            "__________________________________________________________________________________________________\n",
            "conv2d_16 (Conv2D)              (None, 55, 55, 128)  147584      batch_normalization_15[0][0]     \n",
            "__________________________________________________________________________________________________\n",
            "max_pooling2d_2 (MaxPooling2D)  (None, 55, 55, 64)   0           batch_normalization_4[0][0]      \n",
            "__________________________________________________________________________________________________\n",
            "batch_normalization_16 (BatchNo (None, 55, 55, 128)  512         conv2d_16[0][0]                  \n",
            "__________________________________________________________________________________________________\n",
            "conv2d_5 (Conv2D)               (None, 55, 55, 128)  73856       max_pooling2d_2[0][0]            \n",
            "__________________________________________________________________________________________________\n",
            "concatenate_3 (Concatenate)     (None, 55, 55, 227)  0           max_pooling2d_7[0][0]            \n",
            "                                                                 batch_normalization_16[0][0]     \n",
            "__________________________________________________________________________________________________\n",
            "batch_normalization_5 (BatchNor (None, 55, 55, 128)  512         conv2d_5[0][0]                   \n",
            "__________________________________________________________________________________________________\n",
            "max_pooling2d_8 (MaxPooling2D)  (None, 27, 27, 227)  0           concatenate_3[0][0]              \n",
            "__________________________________________________________________________________________________\n",
            "conv2d_6 (Conv2D)               (None, 55, 55, 128)  147584      batch_normalization_5[0][0]      \n",
            "__________________________________________________________________________________________________\n",
            "conv2d_17 (Conv2D)              (None, 27, 27, 256)  523264      max_pooling2d_8[0][0]            \n",
            "__________________________________________________________________________________________________\n",
            "batch_normalization_6 (BatchNor (None, 55, 55, 128)  512         conv2d_6[0][0]                   \n",
            "__________________________________________________________________________________________________\n",
            "batch_normalization_17 (BatchNo (None, 27, 27, 256)  1024        conv2d_17[0][0]                  \n",
            "__________________________________________________________________________________________________\n",
            "max_pooling2d_3 (MaxPooling2D)  (None, 27, 27, 128)  0           batch_normalization_6[0][0]      \n",
            "__________________________________________________________________________________________________\n",
            "conv2d_18 (Conv2D)              (None, 27, 27, 256)  590080      batch_normalization_17[0][0]     \n",
            "__________________________________________________________________________________________________\n",
            "conv2d_7 (Conv2D)               (None, 27, 27, 256)  295168      max_pooling2d_3[0][0]            \n",
            "__________________________________________________________________________________________________\n",
            "batch_normalization_18 (BatchNo (None, 27, 27, 256)  1024        conv2d_18[0][0]                  \n",
            "__________________________________________________________________________________________________\n",
            "batch_normalization_7 (BatchNor (None, 27, 27, 256)  1024        conv2d_7[0][0]                   \n",
            "__________________________________________________________________________________________________\n",
            "concatenate_4 (Concatenate)     (None, 27, 27, 483)  0           max_pooling2d_8[0][0]            \n",
            "                                                                 batch_normalization_18[0][0]     \n",
            "__________________________________________________________________________________________________\n",
            "conv2d_8 (Conv2D)               (None, 27, 27, 256)  590080      batch_normalization_7[0][0]      \n",
            "__________________________________________________________________________________________________\n",
            "max_pooling2d_9 (MaxPooling2D)  (None, 13, 13, 483)  0           concatenate_4[0][0]              \n",
            "__________________________________________________________________________________________________\n",
            "batch_normalization_8 (BatchNor (None, 27, 27, 256)  1024        conv2d_8[0][0]                   \n",
            "__________________________________________________________________________________________________\n",
            "conv2d_19 (Conv2D)              (None, 13, 13, 384)  1669632     max_pooling2d_9[0][0]            \n",
            "__________________________________________________________________________________________________\n",
            "max_pooling2d_4 (MaxPooling2D)  (None, 13, 13, 256)  0           batch_normalization_8[0][0]      \n",
            "__________________________________________________________________________________________________\n",
            "batch_normalization_19 (BatchNo (None, 13, 13, 384)  1536        conv2d_19[0][0]                  \n",
            "__________________________________________________________________________________________________\n",
            "conv2d_9 (Conv2D)               (None, 13, 13, 384)  885120      max_pooling2d_4[0][0]            \n",
            "__________________________________________________________________________________________________\n",
            "conv2d_20 (Conv2D)              (None, 13, 13, 384)  1327488     batch_normalization_19[0][0]     \n",
            "__________________________________________________________________________________________________\n",
            "batch_normalization_9 (BatchNor (None, 13, 13, 384)  1536        conv2d_9[0][0]                   \n",
            "__________________________________________________________________________________________________\n",
            "batch_normalization_20 (BatchNo (None, 13, 13, 384)  1536        conv2d_20[0][0]                  \n",
            "__________________________________________________________________________________________________\n",
            "conv2d_10 (Conv2D)              (None, 13, 13, 384)  1327488     batch_normalization_9[0][0]      \n",
            "__________________________________________________________________________________________________\n",
            "concatenate_5 (Concatenate)     (None, 13, 13, 867)  0           max_pooling2d_9[0][0]            \n",
            "                                                                 batch_normalization_20[0][0]     \n",
            "__________________________________________________________________________________________________\n",
            "batch_normalization_10 (BatchNo (None, 13, 13, 384)  1536        conv2d_10[0][0]                  \n",
            "__________________________________________________________________________________________________\n",
            "max_pooling2d_10 (MaxPooling2D) (None, 6, 6, 867)    0           concatenate_5[0][0]              \n",
            "__________________________________________________________________________________________________\n",
            "max_pooling2d_5 (MaxPooling2D)  (None, 6, 6, 384)    0           batch_normalization_10[0][0]     \n",
            "__________________________________________________________________________________________________\n",
            "concatenate_6 (Concatenate)     (None, 6, 6, 1251)   0           max_pooling2d_10[0][0]           \n",
            "                                                                 max_pooling2d_5[0][0]            \n",
            "__________________________________________________________________________________________________\n",
            "global_average_pooling2d_1 (Glo (None, 1251)         0           concatenate_6[0][0]              \n",
            "__________________________________________________________________________________________________\n",
            "dropout_1 (Dropout)             (None, 1251)         0           global_average_pooling2d_1[0][0] \n",
            "__________________________________________________________________________________________________\n",
            "dense_1 (Dense)                 (None, 2048)         2564096     dropout_1[0][0]                  \n",
            "__________________________________________________________________________________________________\n",
            "dropout_2 (Dropout)             (None, 2048)         0           dense_1[0][0]                    \n",
            "__________________________________________________________________________________________________\n",
            "dense_2 (Dense)                 (None, 2048)         4196352     dropout_2[0][0]                  \n",
            "__________________________________________________________________________________________________\n",
            "dense_3 (Dense)                 (None, 1)            2049        dense_2[0][0]                    \n",
            "==================================================================================================\n",
            "Total params: 14,600,705\n",
            "Trainable params: 14,593,793\n",
            "Non-trainable params: 6,912\n",
            "__________________________________________________________________________________________________\n"
          ],
          "name": "stdout"
        }
      ]
    },
    {
      "cell_type": "code",
      "metadata": {
        "trusted": true,
        "id": "-k8l_JV43hRH",
        "colab_type": "code",
        "colab": {}
      },
      "source": [
        "batch_size = 40\n",
        "num_epochs = 100\n",
        "learning_rate = 1e-3\n",
        "\n",
        "weights_filepath = '/content/gdrive/My Drive/Kaggle/I2A2_Bone_Regression/NeuralNet_concat/model.{epoch:02d}-{val_loss:.2f}.h5'\n",
        "\n",
        "callbacks = [ModelCheckpoint(weights_filepath, monitor='loss', mode='min', verbose=1, save_best_only=True), ReduceLROnPlateau(monitor=\"loss\", factor=0.1, patience=10, verbose=1, mode=\"auto\", min_delta=0.0001, cooldown=0, min_lr=0,)]\n",
        "#EarlyStopping(monitor='val_loss', mode='min', patience=10), \n",
        "mse = keras.losses.MeanSquaredError()        \n",
        "\n",
        "model.compile(loss = mse, optimizer = Adam(lr = learning_rate), metrics = ['acc'])"
      ],
      "execution_count": null,
      "outputs": []
    },
    {
      "cell_type": "code",
      "metadata": {
        "trusted": true,
        "id": "oOcx4rzf3hRL",
        "colab_type": "code",
        "colab": {
          "base_uri": "https://localhost:8080/",
          "height": 374
        },
        "outputId": "4b9ac6e0-e542-4d02-9d5d-e91a8ddf3f42"
      },
      "source": [
        "weights_filepath = model.load_weights('/content/gdrive/My Drive/Kaggle/I2A2_Bone_Regression/NeuralNet_concat/model.44-820.58.h5')\n",
        "\n",
        "STEP_SIZE_TRAIN=train_iter.n//train_iter.batch_size\n",
        "STEP_SIZE_VALID=valid_iter.n//valid_iter.batch_size\n",
        "history = model.fit_generator(generator=train_iter, steps_per_epoch=STEP_SIZE_TRAIN, validation_data=valid_iter, validation_steps=STEP_SIZE_VALID, epochs=num_epochs, verbose = 1, callbacks=callbacks)"
      ],
      "execution_count": null,
      "outputs": [
        {
          "output_type": "stream",
          "text": [
            "Epoch 1/100\n",
            " 80/295 [=======>......................] - ETA: 2:08:31 - loss: 185.1559 - acc: 0.0271"
          ],
          "name": "stdout"
        },
        {
          "output_type": "error",
          "ename": "KeyboardInterrupt",
          "evalue": "ignored",
          "traceback": [
            "\u001b[0;31m---------------------------------------------------------------------------\u001b[0m",
            "\u001b[0;31mKeyboardInterrupt\u001b[0m                         Traceback (most recent call last)",
            "\u001b[0;32m<ipython-input-14-d92506c49da6>\u001b[0m in \u001b[0;36m<module>\u001b[0;34m()\u001b[0m\n\u001b[1;32m      3\u001b[0m \u001b[0mSTEP_SIZE_TRAIN\u001b[0m\u001b[0;34m=\u001b[0m\u001b[0mtrain_iter\u001b[0m\u001b[0;34m.\u001b[0m\u001b[0mn\u001b[0m\u001b[0;34m//\u001b[0m\u001b[0mtrain_iter\u001b[0m\u001b[0;34m.\u001b[0m\u001b[0mbatch_size\u001b[0m\u001b[0;34m\u001b[0m\u001b[0;34m\u001b[0m\u001b[0m\n\u001b[1;32m      4\u001b[0m \u001b[0mSTEP_SIZE_VALID\u001b[0m\u001b[0;34m=\u001b[0m\u001b[0mvalid_iter\u001b[0m\u001b[0;34m.\u001b[0m\u001b[0mn\u001b[0m\u001b[0;34m//\u001b[0m\u001b[0mvalid_iter\u001b[0m\u001b[0;34m.\u001b[0m\u001b[0mbatch_size\u001b[0m\u001b[0;34m\u001b[0m\u001b[0;34m\u001b[0m\u001b[0m\n\u001b[0;32m----> 5\u001b[0;31m \u001b[0mhistory\u001b[0m \u001b[0;34m=\u001b[0m \u001b[0mmodel\u001b[0m\u001b[0;34m.\u001b[0m\u001b[0mfit_generator\u001b[0m\u001b[0;34m(\u001b[0m\u001b[0mgenerator\u001b[0m\u001b[0;34m=\u001b[0m\u001b[0mtrain_iter\u001b[0m\u001b[0;34m,\u001b[0m \u001b[0msteps_per_epoch\u001b[0m\u001b[0;34m=\u001b[0m\u001b[0mSTEP_SIZE_TRAIN\u001b[0m\u001b[0;34m,\u001b[0m \u001b[0mvalidation_data\u001b[0m\u001b[0;34m=\u001b[0m\u001b[0mvalid_iter\u001b[0m\u001b[0;34m,\u001b[0m \u001b[0mvalidation_steps\u001b[0m\u001b[0;34m=\u001b[0m\u001b[0mSTEP_SIZE_VALID\u001b[0m\u001b[0;34m,\u001b[0m \u001b[0mepochs\u001b[0m\u001b[0;34m=\u001b[0m\u001b[0mnum_epochs\u001b[0m\u001b[0;34m,\u001b[0m \u001b[0mverbose\u001b[0m \u001b[0;34m=\u001b[0m \u001b[0;36m1\u001b[0m\u001b[0;34m,\u001b[0m \u001b[0mcallbacks\u001b[0m\u001b[0;34m=\u001b[0m\u001b[0mcallbacks\u001b[0m\u001b[0;34m)\u001b[0m\u001b[0;34m\u001b[0m\u001b[0;34m\u001b[0m\u001b[0m\n\u001b[0m",
            "\u001b[0;32m/usr/local/lib/python3.6/dist-packages/keras/legacy/interfaces.py\u001b[0m in \u001b[0;36mwrapper\u001b[0;34m(*args, **kwargs)\u001b[0m\n\u001b[1;32m     89\u001b[0m                 warnings.warn('Update your `' + object_name + '` call to the ' +\n\u001b[1;32m     90\u001b[0m                               'Keras 2 API: ' + signature, stacklevel=2)\n\u001b[0;32m---> 91\u001b[0;31m             \u001b[0;32mreturn\u001b[0m \u001b[0mfunc\u001b[0m\u001b[0;34m(\u001b[0m\u001b[0;34m*\u001b[0m\u001b[0margs\u001b[0m\u001b[0;34m,\u001b[0m \u001b[0;34m**\u001b[0m\u001b[0mkwargs\u001b[0m\u001b[0;34m)\u001b[0m\u001b[0;34m\u001b[0m\u001b[0;34m\u001b[0m\u001b[0m\n\u001b[0m\u001b[1;32m     92\u001b[0m         \u001b[0mwrapper\u001b[0m\u001b[0;34m.\u001b[0m\u001b[0m_original_function\u001b[0m \u001b[0;34m=\u001b[0m \u001b[0mfunc\u001b[0m\u001b[0;34m\u001b[0m\u001b[0;34m\u001b[0m\u001b[0m\n\u001b[1;32m     93\u001b[0m         \u001b[0;32mreturn\u001b[0m \u001b[0mwrapper\u001b[0m\u001b[0;34m\u001b[0m\u001b[0;34m\u001b[0m\u001b[0m\n",
            "\u001b[0;32m/usr/local/lib/python3.6/dist-packages/keras/engine/training.py\u001b[0m in \u001b[0;36mfit_generator\u001b[0;34m(self, generator, steps_per_epoch, epochs, verbose, callbacks, validation_data, validation_steps, validation_freq, class_weight, max_queue_size, workers, use_multiprocessing, shuffle, initial_epoch)\u001b[0m\n\u001b[1;32m   1730\u001b[0m             \u001b[0muse_multiprocessing\u001b[0m\u001b[0;34m=\u001b[0m\u001b[0muse_multiprocessing\u001b[0m\u001b[0;34m,\u001b[0m\u001b[0;34m\u001b[0m\u001b[0;34m\u001b[0m\u001b[0m\n\u001b[1;32m   1731\u001b[0m             \u001b[0mshuffle\u001b[0m\u001b[0;34m=\u001b[0m\u001b[0mshuffle\u001b[0m\u001b[0;34m,\u001b[0m\u001b[0;34m\u001b[0m\u001b[0;34m\u001b[0m\u001b[0m\n\u001b[0;32m-> 1732\u001b[0;31m             initial_epoch=initial_epoch)\n\u001b[0m\u001b[1;32m   1733\u001b[0m \u001b[0;34m\u001b[0m\u001b[0m\n\u001b[1;32m   1734\u001b[0m     \u001b[0;34m@\u001b[0m\u001b[0minterfaces\u001b[0m\u001b[0;34m.\u001b[0m\u001b[0mlegacy_generator_methods_support\u001b[0m\u001b[0;34m\u001b[0m\u001b[0;34m\u001b[0m\u001b[0m\n",
            "\u001b[0;32m/usr/local/lib/python3.6/dist-packages/keras/engine/training_generator.py\u001b[0m in \u001b[0;36mfit_generator\u001b[0;34m(model, generator, steps_per_epoch, epochs, verbose, callbacks, validation_data, validation_steps, validation_freq, class_weight, max_queue_size, workers, use_multiprocessing, shuffle, initial_epoch)\u001b[0m\n\u001b[1;32m    218\u001b[0m                                             \u001b[0msample_weight\u001b[0m\u001b[0;34m=\u001b[0m\u001b[0msample_weight\u001b[0m\u001b[0;34m,\u001b[0m\u001b[0;34m\u001b[0m\u001b[0;34m\u001b[0m\u001b[0m\n\u001b[1;32m    219\u001b[0m                                             \u001b[0mclass_weight\u001b[0m\u001b[0;34m=\u001b[0m\u001b[0mclass_weight\u001b[0m\u001b[0;34m,\u001b[0m\u001b[0;34m\u001b[0m\u001b[0;34m\u001b[0m\u001b[0m\n\u001b[0;32m--> 220\u001b[0;31m                                             reset_metrics=False)\n\u001b[0m\u001b[1;32m    221\u001b[0m \u001b[0;34m\u001b[0m\u001b[0m\n\u001b[1;32m    222\u001b[0m                 \u001b[0mouts\u001b[0m \u001b[0;34m=\u001b[0m \u001b[0mto_list\u001b[0m\u001b[0;34m(\u001b[0m\u001b[0mouts\u001b[0m\u001b[0;34m)\u001b[0m\u001b[0;34m\u001b[0m\u001b[0;34m\u001b[0m\u001b[0m\n",
            "\u001b[0;32m/usr/local/lib/python3.6/dist-packages/keras/engine/training.py\u001b[0m in \u001b[0;36mtrain_on_batch\u001b[0;34m(self, x, y, sample_weight, class_weight, reset_metrics)\u001b[0m\n\u001b[1;32m   1512\u001b[0m             \u001b[0mins\u001b[0m \u001b[0;34m=\u001b[0m \u001b[0mx\u001b[0m \u001b[0;34m+\u001b[0m \u001b[0my\u001b[0m \u001b[0;34m+\u001b[0m \u001b[0msample_weights\u001b[0m\u001b[0;34m\u001b[0m\u001b[0;34m\u001b[0m\u001b[0m\n\u001b[1;32m   1513\u001b[0m         \u001b[0mself\u001b[0m\u001b[0;34m.\u001b[0m\u001b[0m_make_train_function\u001b[0m\u001b[0;34m(\u001b[0m\u001b[0;34m)\u001b[0m\u001b[0;34m\u001b[0m\u001b[0;34m\u001b[0m\u001b[0m\n\u001b[0;32m-> 1514\u001b[0;31m         \u001b[0moutputs\u001b[0m \u001b[0;34m=\u001b[0m \u001b[0mself\u001b[0m\u001b[0;34m.\u001b[0m\u001b[0mtrain_function\u001b[0m\u001b[0;34m(\u001b[0m\u001b[0mins\u001b[0m\u001b[0;34m)\u001b[0m\u001b[0;34m\u001b[0m\u001b[0;34m\u001b[0m\u001b[0m\n\u001b[0m\u001b[1;32m   1515\u001b[0m \u001b[0;34m\u001b[0m\u001b[0m\n\u001b[1;32m   1516\u001b[0m         \u001b[0;32mif\u001b[0m \u001b[0mreset_metrics\u001b[0m\u001b[0;34m:\u001b[0m\u001b[0;34m\u001b[0m\u001b[0;34m\u001b[0m\u001b[0m\n",
            "\u001b[0;32m/usr/local/lib/python3.6/dist-packages/tensorflow/python/keras/backend.py\u001b[0m in \u001b[0;36m__call__\u001b[0;34m(self, inputs)\u001b[0m\n\u001b[1;32m   3790\u001b[0m         \u001b[0mvalue\u001b[0m \u001b[0;34m=\u001b[0m \u001b[0mmath_ops\u001b[0m\u001b[0;34m.\u001b[0m\u001b[0mcast\u001b[0m\u001b[0;34m(\u001b[0m\u001b[0mvalue\u001b[0m\u001b[0;34m,\u001b[0m \u001b[0mtensor\u001b[0m\u001b[0;34m.\u001b[0m\u001b[0mdtype\u001b[0m\u001b[0;34m)\u001b[0m\u001b[0;34m\u001b[0m\u001b[0;34m\u001b[0m\u001b[0m\n\u001b[1;32m   3791\u001b[0m       \u001b[0mconverted_inputs\u001b[0m\u001b[0;34m.\u001b[0m\u001b[0mappend\u001b[0m\u001b[0;34m(\u001b[0m\u001b[0mvalue\u001b[0m\u001b[0;34m)\u001b[0m\u001b[0;34m\u001b[0m\u001b[0;34m\u001b[0m\u001b[0m\n\u001b[0;32m-> 3792\u001b[0;31m     \u001b[0moutputs\u001b[0m \u001b[0;34m=\u001b[0m \u001b[0mself\u001b[0m\u001b[0;34m.\u001b[0m\u001b[0m_graph_fn\u001b[0m\u001b[0;34m(\u001b[0m\u001b[0;34m*\u001b[0m\u001b[0mconverted_inputs\u001b[0m\u001b[0;34m)\u001b[0m\u001b[0;34m\u001b[0m\u001b[0;34m\u001b[0m\u001b[0m\n\u001b[0m\u001b[1;32m   3793\u001b[0m \u001b[0;34m\u001b[0m\u001b[0m\n\u001b[1;32m   3794\u001b[0m     \u001b[0;31m# EagerTensor.numpy() will often make a copy to ensure memory safety.\u001b[0m\u001b[0;34m\u001b[0m\u001b[0;34m\u001b[0m\u001b[0;34m\u001b[0m\u001b[0m\n",
            "\u001b[0;32m/usr/local/lib/python3.6/dist-packages/tensorflow/python/eager/function.py\u001b[0m in \u001b[0;36m__call__\u001b[0;34m(self, *args, **kwargs)\u001b[0m\n\u001b[1;32m   1603\u001b[0m       \u001b[0mTypeError\u001b[0m\u001b[0;34m:\u001b[0m \u001b[0mFor\u001b[0m \u001b[0minvalid\u001b[0m \u001b[0mpositional\u001b[0m\u001b[0;34m/\u001b[0m\u001b[0mkeyword\u001b[0m \u001b[0margument\u001b[0m \u001b[0mcombinations\u001b[0m\u001b[0;34m.\u001b[0m\u001b[0;34m\u001b[0m\u001b[0;34m\u001b[0m\u001b[0m\n\u001b[1;32m   1604\u001b[0m     \"\"\"\n\u001b[0;32m-> 1605\u001b[0;31m     \u001b[0;32mreturn\u001b[0m \u001b[0mself\u001b[0m\u001b[0;34m.\u001b[0m\u001b[0m_call_impl\u001b[0m\u001b[0;34m(\u001b[0m\u001b[0margs\u001b[0m\u001b[0;34m,\u001b[0m \u001b[0mkwargs\u001b[0m\u001b[0;34m)\u001b[0m\u001b[0;34m\u001b[0m\u001b[0;34m\u001b[0m\u001b[0m\n\u001b[0m\u001b[1;32m   1606\u001b[0m \u001b[0;34m\u001b[0m\u001b[0m\n\u001b[1;32m   1607\u001b[0m   \u001b[0;32mdef\u001b[0m \u001b[0m_call_impl\u001b[0m\u001b[0;34m(\u001b[0m\u001b[0mself\u001b[0m\u001b[0;34m,\u001b[0m \u001b[0margs\u001b[0m\u001b[0;34m,\u001b[0m \u001b[0mkwargs\u001b[0m\u001b[0;34m,\u001b[0m \u001b[0mcancellation_manager\u001b[0m\u001b[0;34m=\u001b[0m\u001b[0;32mNone\u001b[0m\u001b[0;34m)\u001b[0m\u001b[0;34m:\u001b[0m\u001b[0;34m\u001b[0m\u001b[0;34m\u001b[0m\u001b[0m\n",
            "\u001b[0;32m/usr/local/lib/python3.6/dist-packages/tensorflow/python/eager/function.py\u001b[0m in \u001b[0;36m_call_impl\u001b[0;34m(self, args, kwargs, cancellation_manager)\u001b[0m\n\u001b[1;32m   1643\u001b[0m       raise TypeError(\"Keyword arguments {} unknown. Expected {}.\".format(\n\u001b[1;32m   1644\u001b[0m           list(kwargs.keys()), list(self._arg_keywords)))\n\u001b[0;32m-> 1645\u001b[0;31m     \u001b[0;32mreturn\u001b[0m \u001b[0mself\u001b[0m\u001b[0;34m.\u001b[0m\u001b[0m_call_flat\u001b[0m\u001b[0;34m(\u001b[0m\u001b[0margs\u001b[0m\u001b[0;34m,\u001b[0m \u001b[0mself\u001b[0m\u001b[0;34m.\u001b[0m\u001b[0mcaptured_inputs\u001b[0m\u001b[0;34m,\u001b[0m \u001b[0mcancellation_manager\u001b[0m\u001b[0;34m)\u001b[0m\u001b[0;34m\u001b[0m\u001b[0;34m\u001b[0m\u001b[0m\n\u001b[0m\u001b[1;32m   1646\u001b[0m \u001b[0;34m\u001b[0m\u001b[0m\n\u001b[1;32m   1647\u001b[0m   \u001b[0;32mdef\u001b[0m \u001b[0m_filtered_call\u001b[0m\u001b[0;34m(\u001b[0m\u001b[0mself\u001b[0m\u001b[0;34m,\u001b[0m \u001b[0margs\u001b[0m\u001b[0;34m,\u001b[0m \u001b[0mkwargs\u001b[0m\u001b[0;34m)\u001b[0m\u001b[0;34m:\u001b[0m\u001b[0;34m\u001b[0m\u001b[0;34m\u001b[0m\u001b[0m\n",
            "\u001b[0;32m/usr/local/lib/python3.6/dist-packages/tensorflow/python/eager/function.py\u001b[0m in \u001b[0;36m_call_flat\u001b[0;34m(self, args, captured_inputs, cancellation_manager)\u001b[0m\n\u001b[1;32m   1744\u001b[0m       \u001b[0;31m# No tape is watching; skip to running the function.\u001b[0m\u001b[0;34m\u001b[0m\u001b[0;34m\u001b[0m\u001b[0;34m\u001b[0m\u001b[0m\n\u001b[1;32m   1745\u001b[0m       return self._build_call_outputs(self._inference_function.call(\n\u001b[0;32m-> 1746\u001b[0;31m           ctx, args, cancellation_manager=cancellation_manager))\n\u001b[0m\u001b[1;32m   1747\u001b[0m     forward_backward = self._select_forward_and_backward_functions(\n\u001b[1;32m   1748\u001b[0m         \u001b[0margs\u001b[0m\u001b[0;34m,\u001b[0m\u001b[0;34m\u001b[0m\u001b[0;34m\u001b[0m\u001b[0m\n",
            "\u001b[0;32m/usr/local/lib/python3.6/dist-packages/tensorflow/python/eager/function.py\u001b[0m in \u001b[0;36mcall\u001b[0;34m(self, ctx, args, cancellation_manager)\u001b[0m\n\u001b[1;32m    596\u001b[0m               \u001b[0minputs\u001b[0m\u001b[0;34m=\u001b[0m\u001b[0margs\u001b[0m\u001b[0;34m,\u001b[0m\u001b[0;34m\u001b[0m\u001b[0;34m\u001b[0m\u001b[0m\n\u001b[1;32m    597\u001b[0m               \u001b[0mattrs\u001b[0m\u001b[0;34m=\u001b[0m\u001b[0mattrs\u001b[0m\u001b[0;34m,\u001b[0m\u001b[0;34m\u001b[0m\u001b[0;34m\u001b[0m\u001b[0m\n\u001b[0;32m--> 598\u001b[0;31m               ctx=ctx)\n\u001b[0m\u001b[1;32m    599\u001b[0m         \u001b[0;32melse\u001b[0m\u001b[0;34m:\u001b[0m\u001b[0;34m\u001b[0m\u001b[0;34m\u001b[0m\u001b[0m\n\u001b[1;32m    600\u001b[0m           outputs = execute.execute_with_cancellation(\n",
            "\u001b[0;32m/usr/local/lib/python3.6/dist-packages/tensorflow/python/eager/execute.py\u001b[0m in \u001b[0;36mquick_execute\u001b[0;34m(op_name, num_outputs, inputs, attrs, ctx, name)\u001b[0m\n\u001b[1;32m     58\u001b[0m     \u001b[0mctx\u001b[0m\u001b[0;34m.\u001b[0m\u001b[0mensure_initialized\u001b[0m\u001b[0;34m(\u001b[0m\u001b[0;34m)\u001b[0m\u001b[0;34m\u001b[0m\u001b[0;34m\u001b[0m\u001b[0m\n\u001b[1;32m     59\u001b[0m     tensors = pywrap_tfe.TFE_Py_Execute(ctx._handle, device_name, op_name,\n\u001b[0;32m---> 60\u001b[0;31m                                         inputs, attrs, num_outputs)\n\u001b[0m\u001b[1;32m     61\u001b[0m   \u001b[0;32mexcept\u001b[0m \u001b[0mcore\u001b[0m\u001b[0;34m.\u001b[0m\u001b[0m_NotOkStatusException\u001b[0m \u001b[0;32mas\u001b[0m \u001b[0me\u001b[0m\u001b[0;34m:\u001b[0m\u001b[0;34m\u001b[0m\u001b[0;34m\u001b[0m\u001b[0m\n\u001b[1;32m     62\u001b[0m     \u001b[0;32mif\u001b[0m \u001b[0mname\u001b[0m \u001b[0;32mis\u001b[0m \u001b[0;32mnot\u001b[0m \u001b[0;32mNone\u001b[0m\u001b[0;34m:\u001b[0m\u001b[0;34m\u001b[0m\u001b[0;34m\u001b[0m\u001b[0m\n",
            "\u001b[0;31mKeyboardInterrupt\u001b[0m: "
          ]
        }
      ]
    },
    {
      "cell_type": "code",
      "metadata": {
        "trusted": true,
        "id": "VVg0Q7T43hRN",
        "colab_type": "code",
        "colab": {}
      },
      "source": [
        "plt.plot(history.history['acc'])\n",
        "plt.plot(history.history['val_acc'])\n",
        "plt.ylabel('acurácia')\n",
        "plt.xlabel('época')\n",
        "plt.legend(['treino', 'validação'], loc = 'upper left')\n",
        "plt.show()\n",
        "\n",
        "plt.plot(history.history['loss'])\n",
        "plt.plot(history.history['val_loss'])\n",
        "plt.ylabel('loss')\n",
        "plt.xlabel('época')\n",
        "plt.legend(['treino', 'validação'], loc = 'upper left')\n",
        "plt.show()"
      ],
      "execution_count": null,
      "outputs": []
    },
    {
      "cell_type": "code",
      "metadata": {
        "trusted": true,
        "id": "OEL16lFY3hRQ",
        "colab_type": "code",
        "colab": {}
      },
      "source": [
        "X = []\n",
        "for i in tqdm(X_test):\n",
        "    im = Image.open(os.path.join('/content/gdrive/My Drive/Kaggle/I2A2_Bone_Regression/images',i)).convert('RGB')\n",
        "    im = im.resize((img_size,img_size))\n",
        "    im = np.asarray(im)\n",
        "    X.append(im)\n",
        "X_tt = np.stack(X,axis=0) \n",
        "\n",
        "model.evaluate(X_tt, y_test)\n",
        "\n"
      ],
      "execution_count": null,
      "outputs": []
    },
    {
      "cell_type": "code",
      "metadata": {
        "id": "E4QqzYu2p-zY",
        "colab_type": "code",
        "colab": {}
      },
      "source": [
        "model.save(\"/content/gdrive/My Drive/Kaggle/I2A2_Bone_Regression/NeuralNet/my_h5_model.h5\")"
      ],
      "execution_count": null,
      "outputs": []
    },
    {
      "cell_type": "code",
      "metadata": {
        "trusted": true,
        "id": "meE8R5KH3hRS",
        "colab_type": "code",
        "colab": {
          "base_uri": "https://localhost:8080/",
          "height": 34
        },
        "outputId": "0b3fe4af-819a-473d-f50c-ab83d6543f96"
      },
      "source": [
        "img_size = 224\n",
        "X = []\n",
        "for i in tqdm(test_df['fileName']):\n",
        "    im = Image.open(os.path.join('/content/gdrive/My Drive/Kaggle/I2A2_Bone_Regression/preview',i)).convert('RGB')\n",
        "    im = im.resize((img_size,img_size))\n",
        "    im = np.asarray(im)/255\n",
        "    X.append(im)\n",
        "X_t = np.stack(X,axis=0) "
      ],
      "execution_count": null,
      "outputs": [
        {
          "output_type": "stream",
          "text": [
            "100%|██████████| 249/249 [00:06<00:00, 41.35it/s]\n"
          ],
          "name": "stderr"
        }
      ]
    },
    {
      "cell_type": "code",
      "metadata": {
        "trusted": true,
        "id": "Nr8tho5z3hRU",
        "colab_type": "code",
        "colab": {
          "base_uri": "https://localhost:8080/",
          "height": 1000
        },
        "outputId": "2f2b26c3-a786-469c-aa96-51d908110df4"
      },
      "source": [
        "model = tf.keras.models.load_model('/content/my_h5_model.h5')\n",
        "model.load_weights('/content/my_h5_model.h5')\n",
        "y_t = model.predict(X_t,verbose=1)\n",
        "print(y_t)"
      ],
      "execution_count": null,
      "outputs": [
        {
          "output_type": "stream",
          "text": [
            "8/8 [==============================] - 1s 63ms/step\n",
            "[[ 51.848618]\n",
            " [ 54.73187 ]\n",
            " [ 61.400948]\n",
            " [105.24501 ]\n",
            " [169.9654  ]\n",
            " [ 53.89872 ]\n",
            " [ 58.844116]\n",
            " [104.86145 ]\n",
            " [ 79.05908 ]\n",
            " [ 73.95665 ]\n",
            " [ 56.938923]\n",
            " [ 83.264084]\n",
            " [ 82.680695]\n",
            " [ 67.86927 ]\n",
            " [ 77.08283 ]\n",
            " [118.92383 ]\n",
            " [ 67.710365]\n",
            " [153.71645 ]\n",
            " [ 69.88101 ]\n",
            " [146.30162 ]\n",
            " [ 44.282917]\n",
            " [ 60.0177  ]\n",
            " [ 53.976593]\n",
            " [ 57.14627 ]\n",
            " [ 60.298954]\n",
            " [170.39519 ]\n",
            " [ 84.61151 ]\n",
            " [ 36.73858 ]\n",
            " [ 56.263977]\n",
            " [ 96.00036 ]\n",
            " [ 93.79335 ]\n",
            " [139.06567 ]\n",
            " [ 43.049408]\n",
            " [ 77.23334 ]\n",
            " [110.32254 ]\n",
            " [ 67.15832 ]\n",
            " [ 80.61116 ]\n",
            " [ 96.95723 ]\n",
            " [182.97418 ]\n",
            " [ 67.89435 ]\n",
            " [136.39629 ]\n",
            " [121.001335]\n",
            " [ 43.75162 ]\n",
            " [ 40.677666]\n",
            " [147.6081  ]\n",
            " [127.75756 ]\n",
            " [127.88212 ]\n",
            " [132.42165 ]\n",
            " [ 61.65413 ]\n",
            " [138.9972  ]\n",
            " [ 66.181725]\n",
            " [190.11996 ]\n",
            " [ 71.23677 ]\n",
            " [ 49.576195]\n",
            " [ 57.582874]\n",
            " [ 65.21706 ]\n",
            " [ 42.72416 ]\n",
            " [145.7449  ]\n",
            " [128.19875 ]\n",
            " [ 68.58675 ]\n",
            " [ 55.942753]\n",
            " [ 44.925175]\n",
            " [127.60368 ]\n",
            " [ 53.87229 ]\n",
            " [ 67.01149 ]\n",
            " [ 81.20555 ]\n",
            " [111.21135 ]\n",
            " [ 66.072266]\n",
            " [123.613434]\n",
            " [ 42.599445]\n",
            " [ 59.524994]\n",
            " [107.59737 ]\n",
            " [ 83.85432 ]\n",
            " [ 49.00074 ]\n",
            " [ 50.20544 ]\n",
            " [ 95.03567 ]\n",
            " [145.3869  ]\n",
            " [ 63.20018 ]\n",
            " [125.514755]\n",
            " [143.27481 ]\n",
            " [159.29451 ]\n",
            " [178.20366 ]\n",
            " [162.36047 ]\n",
            " [102.04205 ]\n",
            " [ 92.05438 ]\n",
            " [ 55.56213 ]\n",
            " [ 47.010994]\n",
            " [147.72289 ]\n",
            " [ 55.471073]\n",
            " [124.17913 ]\n",
            " [122.1201  ]\n",
            " [157.19415 ]\n",
            " [ 46.417557]\n",
            " [ 60.495407]\n",
            " [114.537254]\n",
            " [ 97.87799 ]\n",
            " [109.87009 ]\n",
            " [ 82.13414 ]\n",
            " [ 54.570488]\n",
            " [ 68.83351 ]\n",
            " [138.75296 ]\n",
            " [112.80908 ]\n",
            " [115.35344 ]\n",
            " [146.16147 ]\n",
            " [133.23483 ]\n",
            " [ 51.024616]\n",
            " [180.50842 ]\n",
            " [ 44.773575]\n",
            " [ 44.008396]\n",
            " [ 88.58142 ]\n",
            " [108.71986 ]\n",
            " [ 41.973015]\n",
            " [133.80261 ]\n",
            " [ 53.0648  ]\n",
            " [ 58.564095]\n",
            " [ 79.063995]\n",
            " [113.07608 ]\n",
            " [128.57172 ]\n",
            " [ 73.694176]\n",
            " [ 72.55076 ]\n",
            " [128.12369 ]\n",
            " [ 62.463123]\n",
            " [ 50.525913]\n",
            " [ 43.12097 ]\n",
            " [ 77.38805 ]\n",
            " [ 48.929104]\n",
            " [ 55.893238]\n",
            " [127.40309 ]\n",
            " [ 65.91124 ]\n",
            " [ 82.76575 ]\n",
            " [ 90.74704 ]\n",
            " [138.47037 ]\n",
            " [144.98651 ]\n",
            " [133.3269  ]\n",
            " [ 55.089695]\n",
            " [129.30751 ]\n",
            " [ 47.115414]\n",
            " [ 56.63323 ]\n",
            " [134.34912 ]\n",
            " [107.96242 ]\n",
            " [ 60.443428]\n",
            " [ 91.210815]\n",
            " [181.5505  ]\n",
            " [ 69.96004 ]\n",
            " [ 83.29526 ]\n",
            " [ 42.634506]\n",
            " [ 59.774277]\n",
            " [ 69.17362 ]\n",
            " [137.17949 ]\n",
            " [167.7699  ]\n",
            " [117.58934 ]\n",
            " [ 92.195465]\n",
            " [ 53.96907 ]\n",
            " [ 75.90559 ]\n",
            " [ 64.61466 ]\n",
            " [113.18347 ]\n",
            " [ 97.84497 ]\n",
            " [133.92558 ]\n",
            " [ 81.05884 ]\n",
            " [117.038666]\n",
            " [197.16676 ]\n",
            " [126.74637 ]\n",
            " [ 56.837402]\n",
            " [ 54.186935]\n",
            " [ 42.37852 ]\n",
            " [ 42.536236]\n",
            " [ 55.52375 ]\n",
            " [ 40.002594]\n",
            " [ 96.24106 ]\n",
            " [ 89.280975]\n",
            " [137.94547 ]\n",
            " [ 73.08119 ]\n",
            " [ 73.33623 ]\n",
            " [157.4235  ]\n",
            " [ 52.674175]\n",
            " [129.89337 ]\n",
            " [ 60.340736]\n",
            " [ 69.466934]\n",
            " [ 42.487785]\n",
            " [ 97.86937 ]\n",
            " [ 60.118343]\n",
            " [177.43948 ]\n",
            " [ 74.07006 ]\n",
            " [ 60.098785]\n",
            " [172.82715 ]\n",
            " [ 59.413246]\n",
            " [128.37558 ]\n",
            " [136.39345 ]\n",
            " [137.8038  ]\n",
            " [132.08539 ]\n",
            " [ 58.215412]\n",
            " [133.79329 ]\n",
            " [117.55441 ]\n",
            " [ 74.66885 ]\n",
            " [139.4284  ]\n",
            " [ 95.88875 ]\n",
            " [ 64.634735]\n",
            " [ 52.87853 ]\n",
            " [ 44.734985]\n",
            " [ 64.033806]\n",
            " [127.937416]\n",
            " [ 74.64263 ]\n",
            " [106.61014 ]\n",
            " [ 45.00029 ]\n",
            " [164.44815 ]\n",
            " [148.16414 ]\n",
            " [124.32692 ]\n",
            " [ 68.016594]\n",
            " [155.42018 ]\n",
            " [ 53.214554]\n",
            " [145.21451 ]\n",
            " [104.430084]\n",
            " [160.11232 ]\n",
            " [ 79.583336]\n",
            " [ 77.921005]\n",
            " [ 44.698277]\n",
            " [ 66.21677 ]\n",
            " [ 49.047863]\n",
            " [ 96.973236]\n",
            " [ 62.278233]\n",
            " [163.6456  ]\n",
            " [ 87.94101 ]\n",
            " [108.52956 ]\n",
            " [ 72.13966 ]\n",
            " [ 63.39857 ]\n",
            " [108.69667 ]\n",
            " [ 67.4378  ]\n",
            " [ 73.814026]\n",
            " [141.62985 ]\n",
            " [123.548676]\n",
            " [176.18219 ]\n",
            " [119.47028 ]\n",
            " [153.05609 ]\n",
            " [ 86.614365]\n",
            " [138.05417 ]\n",
            " [ 35.54556 ]\n",
            " [108.185486]\n",
            " [195.26505 ]\n",
            " [ 39.236958]\n",
            " [ 78.18476 ]\n",
            " [154.40886 ]\n",
            " [187.37906 ]\n",
            " [ 45.051838]\n",
            " [ 59.49412 ]\n",
            " [ 56.900864]\n",
            " [ 93.28682 ]\n",
            " [114.016525]\n",
            " [164.69531 ]\n",
            " [ 42.15294 ]]\n"
          ],
          "name": "stdout"
        }
      ]
    },
    {
      "cell_type": "code",
      "metadata": {
        "trusted": true,
        "id": "PsNpITUh3hRX",
        "colab_type": "code",
        "colab": {
          "base_uri": "https://localhost:8080/",
          "height": 119
        },
        "outputId": "6f21216d-9453-4c3c-d73c-5d53b3147f0d"
      },
      "source": [
        "test_df['boneage'] = y_t\n",
        "test_df.drop(['patientSex'],axis=1,inplace=True)\n",
        "print(test_df.head())\n",
        "test_df.to_csv('/content/gdrive/My Drive/Kaggle/I2A2_Bone_Regression/submission.csv',index=False)"
      ],
      "execution_count": null,
      "outputs": [
        {
          "output_type": "stream",
          "text": [
            "                                   fileName     boneage\n",
            "0  8B2563DD-1B74-4F22-A2DC-46CCF7B58920.png   51.848618\n",
            "1  34E48F6E-144E-4E36-9996-71B797A5E348.png   54.731869\n",
            "2  601B717A-3548-42E2-BBB7-20C9DB598332.png   61.400948\n",
            "3  933BBD2E-2E42-4E46-8CE6-EE89688D9C1E.png  105.245010\n",
            "4  992B3882-02C9-493D-BC4A-C4015E1297A3.png  169.965393\n"
          ],
          "name": "stdout"
        }
      ]
    }
  ]
}